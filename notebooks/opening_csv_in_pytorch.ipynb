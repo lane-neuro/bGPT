{
 "cells": [
  {
   "cell_type": "code",
   "execution_count": 16,
   "id": "initial_id",
   "metadata": {
    "collapsed": true,
    "ExecuteTime": {
     "end_time": "2023-08-31T16:38:47.934310300Z",
     "start_time": "2023-08-31T16:38:47.931309800Z"
    }
   },
   "outputs": [],
   "source": [
    "import torch\n",
    "import os\n",
    "import csv\n",
    "import pandas as pd"
   ]
  },
  {
   "cell_type": "code",
   "execution_count": 17,
   "outputs": [],
   "source": [
    "path_csv = '../example/datasets/8-30-2021-2-08 PM-Mohammad-ETHSensor-CB3-3_reencodedDLC_resnet50_odor-arenaOct3shuffle1_200000_filtered.csv'\n",
    "if os.path.exists(path_csv) != True:\n",
    "    raise Exception('File not found')"
   ],
   "metadata": {
    "collapsed": false,
    "ExecuteTime": {
     "end_time": "2023-08-31T16:38:47.953323500Z",
     "start_time": "2023-08-31T16:38:47.935309700Z"
    }
   },
   "id": "339e844b89abdc6d"
  },
  {
   "cell_type": "code",
   "execution_count": 65,
   "outputs": [
    {
     "data": {
      "text/plain": "(tensor([[430.1600, 115.8811, 562.7869,  ..., 141.2785, 430.3000, 117.6431],\n         [430.2926, 115.9584, 562.7869,  ..., 141.2877, 430.5387, 117.8817],\n         [443.0988, 121.8176, 562.7869,  ..., 141.2877, 430.6750, 117.9403],\n         ...,\n         [432.0244, 119.6729, 427.3285,  ..., 122.3949, 435.4369, 120.2299],\n         [432.0244, 119.6726, 427.3285,  ..., 122.3949, 435.4154, 120.2299],\n         [432.0244, 119.6726, 427.3285,  ..., 122.3892, 435.4011, 120.2271]]),\n Index(['nose', 'lEar', 'rEar', 'neck', 'body', 'tailbase', 'port'], dtype='object', name=0))"
     },
     "execution_count": 65,
     "metadata": {},
     "output_type": "execute_result"
    }
   ],
   "source": [
    "\n",
    "def extract_dlc_csv (path_csv):\n",
    "    def open_dlc_csv(path_csv):\n",
    "        df = pd.read_csv(path_csv)\n",
    "\n",
    "        ## set the second row as the columns and drop columns and first row\n",
    "        df.columns = df.iloc[0]\n",
    "        df = df.drop(df.index[0:2])\n",
    "\n",
    "        ## drop the first column\n",
    "        df = df.drop(df.columns[0], axis=1)\n",
    "\n",
    "        ## drop every third column, which is the likelihood, avoid dropping same name columns by using indexing\n",
    "        ## get indexes to keep\n",
    "        drop_columns_index = range(2, len(df.columns), 3)\n",
    "        keep_columns_index = [i for i in range(len(df.columns)) if i not in drop_columns_index]\n",
    "\n",
    "        ## drop by index\n",
    "        df = df.iloc[:, keep_columns_index]\n",
    "\n",
    "        return df\n",
    "\n",
    "    def convert_dlc_csv_to_tensor(df):\n",
    "        df_tensor = torch.tensor(df.values.astype('float32'), dtype=torch.float32)\n",
    "        return df_tensor\n",
    "\n",
    "    df = open_dlc_csv(path_csv)\n",
    "    tensor = convert_dlc_csv_to_tensor(df)\n",
    "    body_parts = df.columns[::2]\n",
    "    return tensor, body_parts\n",
    "\n",
    "tensor, body_parts = extract_dlc_csv(path_csv)\n",
    "tensor, body_parts"
   ],
   "metadata": {
    "collapsed": false,
    "ExecuteTime": {
     "end_time": "2023-08-31T17:02:01.788240800Z",
     "start_time": "2023-08-31T17:02:01.745239200Z"
    }
   }
  },
  {
   "cell_type": "code",
   "execution_count": 66,
   "outputs": [
    {
     "data": {
      "text/plain": "torch.Size([3299, 14])"
     },
     "execution_count": 66,
     "metadata": {},
     "output_type": "execute_result"
    }
   ],
   "source": [
    "tensor.shape"
   ],
   "metadata": {
    "collapsed": false,
    "ExecuteTime": {
     "end_time": "2023-08-31T17:05:11.844896Z",
     "start_time": "2023-08-31T17:05:11.831896200Z"
    }
   }
  },
  {
   "cell_type": "code",
   "execution_count": null,
   "outputs": [],
   "source": [],
   "metadata": {
    "collapsed": false
   }
  }
 ],
 "metadata": {
  "kernelspec": {
   "display_name": "Python 3",
   "language": "python",
   "name": "python3"
  },
  "language_info": {
   "codemirror_mode": {
    "name": "ipython",
    "version": 2
   },
   "file_extension": ".py",
   "mimetype": "text/x-python",
   "name": "python",
   "nbconvert_exporter": "python",
   "pygments_lexer": "ipython2",
   "version": "2.7.6"
  }
 },
 "nbformat": 4,
 "nbformat_minor": 5
}
